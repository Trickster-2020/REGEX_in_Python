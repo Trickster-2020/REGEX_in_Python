{
 "cells": [
  {
   "cell_type": "markdown",
   "id": "75850ca8",
   "metadata": {},
   "source": [
    "# Email Validation Using REGEX"
   ]
  },
  {
   "cell_type": "code",
   "execution_count": 11,
   "id": "793088dc",
   "metadata": {},
   "outputs": [],
   "source": [
    "import re"
   ]
  },
  {
   "cell_type": "code",
   "execution_count": 15,
   "id": "c4565acf",
   "metadata": {},
   "outputs": [],
   "source": [
    "regex = '^(\\w|\\_|\\-|\\.)+[@]\\w+[.]\\w{2,3}$'"
   ]
  },
  {
   "cell_type": "code",
   "execution_count": null,
   "id": "b63fbefc",
   "metadata": {},
   "outputs": [],
   "source": [
    "email = input('Enter Email:')"
   ]
  },
  {
   "cell_type": "code",
   "execution_count": null,
   "id": "4805fef0",
   "metadata": {},
   "outputs": [],
   "source": [
    "if re.fullmatch(regex,email):\n",
    "    print('Valid Email')\n",
    "else:\n",
    "    print('Invalid Email')"
   ]
  }
 ],
 "metadata": {
  "kernelspec": {
   "display_name": "Python 3 (ipykernel)",
   "language": "python",
   "name": "python3"
  },
  "language_info": {
   "codemirror_mode": {
    "name": "ipython",
    "version": 3
   },
   "file_extension": ".py",
   "mimetype": "text/x-python",
   "name": "python",
   "nbconvert_exporter": "python",
   "pygments_lexer": "ipython3",
   "version": "3.9.7"
  }
 },
 "nbformat": 4,
 "nbformat_minor": 5
}
