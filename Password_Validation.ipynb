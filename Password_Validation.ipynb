{
 "cells": [
  {
   "cell_type": "markdown",
   "id": "f2a28711",
   "metadata": {},
   "source": [
    "#    Password Validation in Python(with REGEX)"
   ]
  },
  {
   "cell_type": "markdown",
   "id": "e0ea5a37",
   "metadata": {},
   "source": [
    "You need to write regex that will validate a password to make sure it meets the following criteria:\n",
    "* At least 8 characters \n",
    "* Uppercase letters : A-Z\n",
    "* Lowercase letters : a-z\n",
    "* Numbers : 0-9\n",
    "* Any of the special characters : @#$%^&+=\n",
    "* Letters/Numbers/Special Characters are optional."
   ]
  },
  {
   "cell_type": "code",
   "execution_count": null,
   "id": "138b6756",
   "metadata": {},
   "outputs": [],
   "source": [
    "import re"
   ]
  },
  {
   "cell_type": "code",
   "execution_count": null,
   "id": "ec11026f",
   "metadata": {},
   "outputs": [],
   "source": [
    "regex1 = '[A-Za-z0-9@#$%^&+=]{8,}'"
   ]
  },
  {
   "cell_type": "code",
   "execution_count": null,
   "id": "6126ce0b",
   "metadata": {},
   "outputs": [],
   "source": [
    "password1 = input('Enter password:')"
   ]
  },
  {
   "cell_type": "code",
   "execution_count": null,
   "id": "55b673d5",
   "metadata": {},
   "outputs": [],
   "source": [
    "if re.fullmatch(regex1,password1):\n",
    "    print('Password is Valid')\n",
    "else:\n",
    "    print('Invalid Password')"
   ]
  },
  {
   "cell_type": "markdown",
   "id": "a867558d",
   "metadata": {},
   "source": [
    "You need to write regex that will validate a password to make sure it meets the following criteria:\n",
    "* At least six characters long\n",
    "* Contains a lowercase letter : a-z\n",
    "* Contains a uppercase letter : A-Z\n",
    "* Contains a number : 0-9\n",
    "* Valid password will only be alphanumericcharacters"
   ]
  },
  {
   "cell_type": "code",
   "execution_count": null,
   "id": "cad73150",
   "metadata": {},
   "outputs": [],
   "source": [
    "regex2 = '^(?=.*?[a-z])(?=.*?[A-Z])(?=.*?[0-9])[A-Za-z0-9]{6,}$'"
   ]
  },
  {
   "cell_type": "code",
   "execution_count": null,
   "id": "c4a1357d",
   "metadata": {},
   "outputs": [],
   "source": [
    "password2 = input('Enter password:')"
   ]
  },
  {
   "cell_type": "code",
   "execution_count": null,
   "id": "1d9abb00",
   "metadata": {},
   "outputs": [],
   "source": [
    "if re.fullmatch(regex2,password2):\n",
    "    print('Password is Valid')\n",
    "else:\n",
    "    print('Invalid Password')"
   ]
  }
 ],
 "metadata": {
  "kernelspec": {
   "display_name": "Python 3 (ipykernel)",
   "language": "python",
   "name": "python3"
  },
  "language_info": {
   "codemirror_mode": {
    "name": "ipython",
    "version": 3
   },
   "file_extension": ".py",
   "mimetype": "text/x-python",
   "name": "python",
   "nbconvert_exporter": "python",
   "pygments_lexer": "ipython3",
   "version": "3.9.7"
  }
 },
 "nbformat": 4,
 "nbformat_minor": 5
}
