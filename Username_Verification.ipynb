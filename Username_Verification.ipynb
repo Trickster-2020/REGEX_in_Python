{
 "cells": [
  {
   "cell_type": "markdown",
   "id": "cb3124d8",
   "metadata": {},
   "source": [
    "# Username Verification using REGEX"
   ]
  },
  {
   "cell_type": "markdown",
   "id": "a252007f",
   "metadata": {},
   "source": [
    "Username is character only allowing '_'  and '.'"
   ]
  },
  {
   "cell_type": "code",
   "execution_count": 1,
   "id": "7fd8cb0c",
   "metadata": {},
   "outputs": [],
   "source": [
    "import re"
   ]
  },
  {
   "cell_type": "code",
   "execution_count": 2,
   "id": "61f07bc4",
   "metadata": {},
   "outputs": [],
   "source": [
    "regex = '[a-zA-Z_.]+'"
   ]
  },
  {
   "cell_type": "code",
   "execution_count": null,
   "id": "fe6213cc",
   "metadata": {},
   "outputs": [],
   "source": [
    "username = input('Enter Username:')"
   ]
  },
  {
   "cell_type": "code",
   "execution_count": null,
   "id": "52d06da2",
   "metadata": {},
   "outputs": [],
   "source": [
    "if re.fullmatch(regex,username):\n",
    "    print('USERNAME IS VALID')\n",
    "else:\n",
    "    print('INVALID USERNAME')"
   ]
  }
 ],
 "metadata": {
  "kernelspec": {
   "display_name": "Python 3 (ipykernel)",
   "language": "python",
   "name": "python3"
  },
  "language_info": {
   "codemirror_mode": {
    "name": "ipython",
    "version": 3
   },
   "file_extension": ".py",
   "mimetype": "text/x-python",
   "name": "python",
   "nbconvert_exporter": "python",
   "pygments_lexer": "ipython3",
   "version": "3.9.7"
  }
 },
 "nbformat": 4,
 "nbformat_minor": 5
}
