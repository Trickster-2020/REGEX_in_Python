{
 "cells": [
  {
   "cell_type": "markdown",
   "id": "5b5c181b",
   "metadata": {},
   "source": [
    "# Time Format Validation Using REGEX"
   ]
  },
  {
   "cell_type": "markdown",
   "id": "56624ac7",
   "metadata": {},
   "source": [
    "The given time must be a valid time format in the 24-hour ranging from 00:00 to 23:59."
   ]
  },
  {
   "cell_type": "code",
   "execution_count": 1,
   "id": "a7aa9291",
   "metadata": {},
   "outputs": [],
   "source": [
    "import re"
   ]
  },
  {
   "cell_type": "code",
   "execution_count": 5,
   "id": "d6402b07",
   "metadata": {},
   "outputs": [],
   "source": [
    "regex = '([01][0-9]|2[0-3]):([0-5][0-9])'"
   ]
  },
  {
   "cell_type": "markdown",
   "id": "175413be",
   "metadata": {},
   "source": [
    "-To check the user given time format."
   ]
  },
  {
   "cell_type": "code",
   "execution_count": null,
   "id": "f523c2b5",
   "metadata": {},
   "outputs": [],
   "source": [
    "time = input('Enter Time:-')"
   ]
  },
  {
   "cell_type": "code",
   "execution_count": null,
   "id": "da34d626",
   "metadata": {},
   "outputs": [],
   "source": [
    "if re.fullmatch(regex,time):\n",
    "    print('Valid Time-Format')\n",
    "else:\n",
    "    prnt('Invalid Time-Format')"
   ]
  },
  {
   "cell_type": "markdown",
   "id": "83c32bc1",
   "metadata": {},
   "source": [
    "-To check the time format in a set of times."
   ]
  },
  {
   "cell_type": "code",
   "execution_count": 3,
   "id": "e4c19268",
   "metadata": {},
   "outputs": [],
   "source": [
    "inputs = ['11:111','22:59','19:99','24:00','16:24']"
   ]
  },
  {
   "cell_type": "code",
   "execution_count": 6,
   "id": "37dc2d68",
   "metadata": {
    "scrolled": true
   },
   "outputs": [
    {
     "data": {
      "text/plain": [
       "[None,\n",
       " <re.Match object; span=(0, 5), match='22:59'>,\n",
       " None,\n",
       " None,\n",
       " <re.Match object; span=(0, 5), match='16:24'>]"
      ]
     },
     "execution_count": 6,
     "metadata": {},
     "output_type": "execute_result"
    }
   ],
   "source": [
    "[re.fullmatch(regex,x) for x in inputs]"
   ]
  }
 ],
 "metadata": {
  "kernelspec": {
   "display_name": "Python 3 (ipykernel)",
   "language": "python",
   "name": "python3"
  },
  "language_info": {
   "codemirror_mode": {
    "name": "ipython",
    "version": 3
   },
   "file_extension": ".py",
   "mimetype": "text/x-python",
   "name": "python",
   "nbconvert_exporter": "python",
   "pygments_lexer": "ipython3",
   "version": "3.9.7"
  }
 },
 "nbformat": 4,
 "nbformat_minor": 5
}
